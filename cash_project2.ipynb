{
  "nbformat": 4,
  "nbformat_minor": 0,
  "metadata": {
    "colab": {
      "name": "cash_project.ipynb",
      "provenance": [],
      "collapsed_sections": [],
      "authorship_tag": "ABX9TyMLLx5gba+ah7tUvX1L27at",
      "include_colab_link": true
    },
    "kernelspec": {
      "name": "python3",
      "display_name": "Python 3"
    }
  },
  "cells": [
    {
      "cell_type": "markdown",
      "metadata": {
        "id": "view-in-github",
        "colab_type": "text"
      },
      "source": [
        "<a href=\"https://colab.research.google.com/github/MatheusBLQueiroz/Esp/blob/master/cash_project2.ipynb\" target=\"_parent\"><img src=\"https://colab.research.google.com/assets/colab-badge.svg\" alt=\"Open In Colab\"/></a>"
      ]
    },
    {
      "cell_type": "code",
      "metadata": {
        "id": "njmZ6mjTGWf-"
      },
      "source": [
        "import pandas as pd\n",
        "import numpy as np\n",
        "\n",
        "\n"
      ],
      "execution_count": null,
      "outputs": []
    },
    {
      "cell_type": "code",
      "metadata": {
        "id": "h4Zrpq_tG2gJ",
        "outputId": "1a9bc404-3d90-46d3-87f0-e66d2e1b6a86",
        "colab": {
          "base_uri": "https://localhost:8080/",
          "height": 35
        }
      },
      "source": [
        "from google.colab import drive\n",
        "# montando o drive\n",
        "drive.mount('/content/gdrive')\n"
      ],
      "execution_count": null,
      "outputs": [
        {
          "output_type": "stream",
          "text": [
            "Drive already mounted at /content/gdrive; to attempt to forcibly remount, call drive.mount(\"/content/gdrive\", force_remount=True).\n"
          ],
          "name": "stdout"
        }
      ]
    },
    {
      "cell_type": "code",
      "metadata": {
        "id": "ZfagjMWAHpZj"
      },
      "source": [
        "import os"
      ],
      "execution_count": null,
      "outputs": []
    },
    {
      "cell_type": "code",
      "metadata": {
        "id": "qX1veuIEHDhu",
        "outputId": "0ff0f02c-2bec-40d7-dd78-859bf697e083",
        "colab": {
          "base_uri": "https://localhost:8080/",
          "height": 35
        }
      },
      "source": [
        "os.getcwd()"
      ],
      "execution_count": null,
      "outputs": [
        {
          "output_type": "execute_result",
          "data": {
            "application/vnd.google.colaboratory.intrinsic+json": {
              "type": "string"
            },
            "text/plain": [
              "'/content/gdrive/My Drive/dasa_ds'"
            ]
          },
          "metadata": {
            "tags": []
          },
          "execution_count": 150
        }
      ]
    },
    {
      "cell_type": "code",
      "metadata": {
        "id": "hLI2WJMuHwvK",
        "outputId": "eb4fc89c-45b2-4b57-af89-51ed204d3bb3",
        "colab": {
          "base_uri": "https://localhost:8080/",
          "height": 35
        }
      },
      "source": [
        "os.chdir('/content/gdrive/My Drive/dasa_ds')\n",
        "\n",
        "os.getcwd()"
      ],
      "execution_count": null,
      "outputs": [
        {
          "output_type": "execute_result",
          "data": {
            "application/vnd.google.colaboratory.intrinsic+json": {
              "type": "string"
            },
            "text/plain": [
              "'/content/gdrive/My Drive/dasa_ds'"
            ]
          },
          "metadata": {
            "tags": []
          },
          "execution_count": 151
        }
      ]
    },
    {
      "cell_type": "code",
      "metadata": {
        "id": "KPl1tnHaYA7i",
        "outputId": "8f2e9105-2ecb-4ac0-b1fc-2bf1bf4c9926",
        "colab": {
          "base_uri": "https://localhost:8080/",
          "height": 108
        }
      },
      "source": [
        "os.listdir()"
      ],
      "execution_count": null,
      "outputs": [
        {
          "output_type": "execute_result",
          "data": {
            "text/plain": [
              "['depara_cc_deposito.xlsx',\n",
              " 'depara 7000_e_setor.xlsx',\n",
              " 'mb51_ano_2020_ate_20.09.XLSX',\n",
              " '.ipynb_checkpoints',\n",
              " '~$mb51_ano_2020_ate_20.09.XLSX']"
            ]
          },
          "metadata": {
            "tags": []
          },
          "execution_count": 152
        }
      ]
    },
    {
      "cell_type": "code",
      "metadata": {
        "id": "SAR0fUdxH4gQ",
        "outputId": "cb216e79-f05e-4eac-8727-8d577c8c0c39",
        "colab": {
          "base_uri": "https://localhost:8080/",
          "height": 198
        }
      },
      "source": [
        "dp7 = pd.read_excel('depara 7000_e_setor.xlsx')\n",
        "\n",
        "dp7.head()"
      ],
      "execution_count": null,
      "outputs": [
        {
          "output_type": "execute_result",
          "data": {
            "text/html": [
              "<div>\n",
              "<style scoped>\n",
              "    .dataframe tbody tr th:only-of-type {\n",
              "        vertical-align: middle;\n",
              "    }\n",
              "\n",
              "    .dataframe tbody tr th {\n",
              "        vertical-align: top;\n",
              "    }\n",
              "\n",
              "    .dataframe thead th {\n",
              "        text-align: right;\n",
              "    }\n",
              "</style>\n",
              "<table border=\"1\" class=\"dataframe\">\n",
              "  <thead>\n",
              "    <tr style=\"text-align: right;\">\n",
              "      <th></th>\n",
              "      <th>Material</th>\n",
              "      <th>Texto breve de material</th>\n",
              "      <th>Soma de Qtd.  UM registro</th>\n",
              "      <th>Setor</th>\n",
              "      <th>Setor 2</th>\n",
              "    </tr>\n",
              "  </thead>\n",
              "  <tbody>\n",
              "    <tr>\n",
              "      <th>0</th>\n",
              "      <td>70000054</td>\n",
              "      <td>Ác Úrico Urina 24h expressão mg/dL</td>\n",
              "      <td>367</td>\n",
              "      <td>Bioquímica</td>\n",
              "      <td>Automação</td>\n",
              "    </tr>\n",
              "    <tr>\n",
              "      <th>1</th>\n",
              "      <td>70000060</td>\n",
              "      <td>Cálcio Dosagem Urina expressão mg/L</td>\n",
              "      <td>17</td>\n",
              "      <td>Bioquímica</td>\n",
              "      <td>Automação</td>\n",
              "    </tr>\n",
              "    <tr>\n",
              "      <th>2</th>\n",
              "      <td>70000067</td>\n",
              "      <td>Cloro, Urina de 24 Horas</td>\n",
              "      <td>7</td>\n",
              "      <td>Bioquímica</td>\n",
              "      <td>Automação</td>\n",
              "    </tr>\n",
              "    <tr>\n",
              "      <th>3</th>\n",
              "      <td>70000070</td>\n",
              "      <td>Cloro, Líquidos Orgânicos</td>\n",
              "      <td>1</td>\n",
              "      <td>Bioquímica</td>\n",
              "      <td>Automação</td>\n",
              "    </tr>\n",
              "    <tr>\n",
              "      <th>4</th>\n",
              "      <td>70000074</td>\n",
              "      <td>Glicose 2 horas pós prandial, Plasma</td>\n",
              "      <td>12000</td>\n",
              "      <td>Bioquímica</td>\n",
              "      <td>Automação</td>\n",
              "    </tr>\n",
              "  </tbody>\n",
              "</table>\n",
              "</div>"
            ],
            "text/plain": [
              "   Material               Texto breve de material  ...       Setor    Setor 2\n",
              "0  70000054    Ác Úrico Urina 24h expressão mg/dL  ...  Bioquímica  Automação\n",
              "1  70000060   Cálcio Dosagem Urina expressão mg/L  ...  Bioquímica  Automação\n",
              "2  70000067              Cloro, Urina de 24 Horas  ...  Bioquímica  Automação\n",
              "3  70000070             Cloro, Líquidos Orgânicos  ...  Bioquímica  Automação\n",
              "4  70000074  Glicose 2 horas pós prandial, Plasma  ...  Bioquímica  Automação\n",
              "\n",
              "[5 rows x 5 columns]"
            ]
          },
          "metadata": {
            "tags": []
          },
          "execution_count": 153
        }
      ]
    },
    {
      "cell_type": "code",
      "metadata": {
        "id": "yCxwB9vSiEgh",
        "outputId": "486b3f11-32b3-483d-cbd3-1af966aefe93",
        "colab": {
          "base_uri": "https://localhost:8080/",
          "height": 235
        }
      },
      "source": [
        "dp7.info()"
      ],
      "execution_count": null,
      "outputs": [
        {
          "output_type": "stream",
          "text": [
            "<class 'pandas.core.frame.DataFrame'>\n",
            "RangeIndex: 395 entries, 0 to 394\n",
            "Data columns (total 5 columns):\n",
            " #   Column                     Non-Null Count  Dtype \n",
            "---  ------                     --------------  ----- \n",
            " 0   Material                   395 non-null    int64 \n",
            " 1   Texto breve de material    395 non-null    object\n",
            " 2   Soma de Qtd.  UM registro  395 non-null    int64 \n",
            " 3   Setor                      395 non-null    object\n",
            " 4   Setor 2                    395 non-null    object\n",
            "dtypes: int64(2), object(3)\n",
            "memory usage: 15.6+ KB\n"
          ],
          "name": "stdout"
        }
      ]
    },
    {
      "cell_type": "code",
      "metadata": {
        "id": "LzptCCe4iHGG"
      },
      "source": [
        "dp7['Material'] = dp7['Material'].astype('float')\n",
        "dp7['Texto breve de material'] = dp7['Texto breve de material'].astype('category')\n",
        "dp7['Soma de Qtd.  UM registro'] = dp7['Soma de Qtd.  UM registro'].astype('int64')\n",
        "dp7['Setor'] = dp7['Setor'].astype('category')\n",
        "dp7['Setor 2'] = dp7['Setor 2'].astype('category')\n"
      ],
      "execution_count": null,
      "outputs": []
    },
    {
      "cell_type": "code",
      "metadata": {
        "id": "FCRhXApbkmXD",
        "outputId": "2eea73af-a227-43b7-a459-4650743c2e49",
        "colab": {
          "base_uri": "https://localhost:8080/",
          "height": 235
        }
      },
      "source": [
        "dp7.info()"
      ],
      "execution_count": null,
      "outputs": [
        {
          "output_type": "stream",
          "text": [
            "<class 'pandas.core.frame.DataFrame'>\n",
            "RangeIndex: 395 entries, 0 to 394\n",
            "Data columns (total 5 columns):\n",
            " #   Column                     Non-Null Count  Dtype   \n",
            "---  ------                     --------------  -----   \n",
            " 0   Material                   395 non-null    float64 \n",
            " 1   Texto breve de material    395 non-null    category\n",
            " 2   Soma de Qtd.  UM registro  395 non-null    int64   \n",
            " 3   Setor                      395 non-null    category\n",
            " 4   Setor 2                    395 non-null    category\n",
            "dtypes: category(3), float64(1), int64(1)\n",
            "memory usage: 31.7 KB\n"
          ],
          "name": "stdout"
        }
      ]
    },
    {
      "cell_type": "code",
      "metadata": {
        "id": "ALfwovkkJAWu",
        "outputId": "6c2444ba-6c1c-4369-f750-e4859ff36d5c",
        "colab": {
          "base_uri": "https://localhost:8080/",
          "height": 198
        }
      },
      "source": [
        "dp_cc_dep = pd.read_excel('depara_cc_deposito.xlsx', None)\n",
        "\n",
        "dp_planilha = dp_cc_dep['Centro De Custo']\n",
        "\n",
        "dp_planilha.head()"
      ],
      "execution_count": null,
      "outputs": [
        {
          "output_type": "execute_result",
          "data": {
            "text/html": [
              "<div>\n",
              "<style scoped>\n",
              "    .dataframe tbody tr th:only-of-type {\n",
              "        vertical-align: middle;\n",
              "    }\n",
              "\n",
              "    .dataframe tbody tr th {\n",
              "        vertical-align: top;\n",
              "    }\n",
              "\n",
              "    .dataframe thead th {\n",
              "        text-align: right;\n",
              "    }\n",
              "</style>\n",
              "<table border=\"1\" class=\"dataframe\">\n",
              "  <thead>\n",
              "    <tr style=\"text-align: right;\">\n",
              "      <th></th>\n",
              "      <th>Centro cst</th>\n",
              "      <th>Setor</th>\n",
              "      <th>Depósito</th>\n",
              "      <th>ÁCC</th>\n",
              "      <th>Empr</th>\n",
              "      <th>TpC.</th>\n",
              "      <th>Responsável</th>\n",
              "      <th>Usu.repons.</th>\n",
              "      <th>Texto breve</th>\n",
              "      <th>Idioma</th>\n",
              "      <th>Vál.desde</th>\n",
              "      <th>até</th>\n",
              "      <th>Setor.1</th>\n",
              "      <th>Depósito.1</th>\n",
              "    </tr>\n",
              "  </thead>\n",
              "  <tbody>\n",
              "    <tr>\n",
              "      <th>0</th>\n",
              "      <td>P01310D969</td>\n",
              "      <td>Sem Setor</td>\n",
              "      <td>PGE0</td>\n",
              "      <td>DASA</td>\n",
              "      <td>1000</td>\n",
              "      <td>P</td>\n",
              "      <td>Carlos Augusto Rosin</td>\n",
              "      <td>F51368811949</td>\n",
              "      <td>CONTR. QLD ANALITICA</td>\n",
              "      <td>PT</td>\n",
              "      <td>01.01.1900</td>\n",
              "      <td>31.12.9999</td>\n",
              "      <td>Sem Setor</td>\n",
              "      <td>PGE0</td>\n",
              "    </tr>\n",
              "    <tr>\n",
              "      <th>1</th>\n",
              "      <td>P01001D969</td>\n",
              "      <td>Sem Setor</td>\n",
              "      <td>Sem dep</td>\n",
              "      <td>DASA</td>\n",
              "      <td>1000</td>\n",
              "      <td>P</td>\n",
              "      <td>Daniele Pinheiro</td>\n",
              "      <td>F44762275468</td>\n",
              "      <td>ESTEIRA AC - GERAL</td>\n",
              "      <td>PT</td>\n",
              "      <td>01.01.1900</td>\n",
              "      <td>31.12.9999</td>\n",
              "      <td>Sem Setor</td>\n",
              "      <td>Sem dep</td>\n",
              "    </tr>\n",
              "    <tr>\n",
              "      <th>2</th>\n",
              "      <td>P01273D969</td>\n",
              "      <td>Sem Setor</td>\n",
              "      <td>Sem dep</td>\n",
              "      <td>DASA</td>\n",
              "      <td>1000</td>\n",
              "      <td>P</td>\n",
              "      <td>Vanessa Alastico</td>\n",
              "      <td>F28470825810</td>\n",
              "      <td>EXAMES TERCEIR AC/AP</td>\n",
              "      <td>PT</td>\n",
              "      <td>01.01.1900</td>\n",
              "      <td>31.12.9999</td>\n",
              "      <td>Sem Setor</td>\n",
              "      <td>Sem dep</td>\n",
              "    </tr>\n",
              "    <tr>\n",
              "      <th>3</th>\n",
              "      <td>P01274D969</td>\n",
              "      <td>Sem Setor</td>\n",
              "      <td>Sem dep</td>\n",
              "      <td>DASA</td>\n",
              "      <td>1000</td>\n",
              "      <td>P</td>\n",
              "      <td>Alessandro Veiga</td>\n",
              "      <td>F07008986971</td>\n",
              "      <td>EXAMES TERCEIRIZ. AP</td>\n",
              "      <td>PT</td>\n",
              "      <td>01.01.1900</td>\n",
              "      <td>31.12.9999</td>\n",
              "      <td>Sem Setor</td>\n",
              "      <td>Sem dep</td>\n",
              "    </tr>\n",
              "    <tr>\n",
              "      <th>4</th>\n",
              "      <td>P01238D969</td>\n",
              "      <td>Sem Setor</td>\n",
              "      <td>Sem dep</td>\n",
              "      <td>DASA</td>\n",
              "      <td>1000</td>\n",
              "      <td>P</td>\n",
              "      <td>Daniele Pinheiro</td>\n",
              "      <td>F44762275468</td>\n",
              "      <td>LAV/ESTER/DESCAR-GER</td>\n",
              "      <td>PT</td>\n",
              "      <td>01.01.1900</td>\n",
              "      <td>31.12.9999</td>\n",
              "      <td>Sem Setor</td>\n",
              "      <td>Sem dep</td>\n",
              "    </tr>\n",
              "  </tbody>\n",
              "</table>\n",
              "</div>"
            ],
            "text/plain": [
              "   Centro cst      Setor Depósito  ...         até    Setor.1 Depósito.1\n",
              "0  P01310D969  Sem Setor     PGE0  ...  31.12.9999  Sem Setor       PGE0\n",
              "1  P01001D969  Sem Setor  Sem dep  ...  31.12.9999  Sem Setor    Sem dep\n",
              "2  P01273D969  Sem Setor  Sem dep  ...  31.12.9999  Sem Setor    Sem dep\n",
              "3  P01274D969  Sem Setor  Sem dep  ...  31.12.9999  Sem Setor    Sem dep\n",
              "4  P01238D969  Sem Setor  Sem dep  ...  31.12.9999  Sem Setor    Sem dep\n",
              "\n",
              "[5 rows x 14 columns]"
            ]
          },
          "metadata": {
            "tags": []
          },
          "execution_count": 157
        }
      ]
    },
    {
      "cell_type": "code",
      "metadata": {
        "id": "4NCwAumPJQ12",
        "outputId": "05c7f0ec-2c54-444b-fa4a-effa8d102c89",
        "colab": {
          "base_uri": "https://localhost:8080/",
          "height": 228
        }
      },
      "source": [
        "mb51 = pd.read_excel('mb51_ano_2020_ate_20.09.XLSX', index_col = 'Data de lançamento' )\n",
        "\n",
        "mb51.head()\n",
        "\n",
        "\n",
        "\n",
        "\n"
      ],
      "execution_count": null,
      "outputs": [
        {
          "output_type": "execute_result",
          "data": {
            "text/html": [
              "<div>\n",
              "<style scoped>\n",
              "    .dataframe tbody tr th:only-of-type {\n",
              "        vertical-align: middle;\n",
              "    }\n",
              "\n",
              "    .dataframe tbody tr th {\n",
              "        vertical-align: top;\n",
              "    }\n",
              "\n",
              "    .dataframe thead th {\n",
              "        text-align: right;\n",
              "    }\n",
              "</style>\n",
              "<table border=\"1\" class=\"dataframe\">\n",
              "  <thead>\n",
              "    <tr style=\"text-align: right;\">\n",
              "      <th></th>\n",
              "      <th>Material</th>\n",
              "      <th>Texto breve de material</th>\n",
              "      <th>Centro</th>\n",
              "      <th>Depósito</th>\n",
              "      <th>Tipo de movimento</th>\n",
              "      <th>Qtd.  UM registro</th>\n",
              "      <th>Montante em MI</th>\n",
              "      <th>Nome do usuário</th>\n",
              "      <th>Centro custo</th>\n",
              "    </tr>\n",
              "    <tr>\n",
              "      <th>Data de lançamento</th>\n",
              "      <th></th>\n",
              "      <th></th>\n",
              "      <th></th>\n",
              "      <th></th>\n",
              "      <th></th>\n",
              "      <th></th>\n",
              "      <th></th>\n",
              "      <th></th>\n",
              "      <th></th>\n",
              "    </tr>\n",
              "  </thead>\n",
              "  <tbody>\n",
              "    <tr>\n",
              "      <th>2020-01-08</th>\n",
              "      <td>NaN</td>\n",
              "      <td>ABASTECIMENTO DE GELO SECO</td>\n",
              "      <td>D969</td>\n",
              "      <td>NaN</td>\n",
              "      <td>101</td>\n",
              "      <td>416.0</td>\n",
              "      <td>0.0</td>\n",
              "      <td>F02967546410</td>\n",
              "      <td>U01001XI29</td>\n",
              "    </tr>\n",
              "    <tr>\n",
              "      <th>2020-01-08</th>\n",
              "      <td>NaN</td>\n",
              "      <td>ABASTECIMENTO DE GELO SECO</td>\n",
              "      <td>D969</td>\n",
              "      <td>NaN</td>\n",
              "      <td>101</td>\n",
              "      <td>624.0</td>\n",
              "      <td>0.0</td>\n",
              "      <td>F02967546410</td>\n",
              "      <td>U01001XI30</td>\n",
              "    </tr>\n",
              "    <tr>\n",
              "      <th>2020-01-08</th>\n",
              "      <td>NaN</td>\n",
              "      <td>ABASTECIMENTO DE GELO SECO</td>\n",
              "      <td>D969</td>\n",
              "      <td>NaN</td>\n",
              "      <td>101</td>\n",
              "      <td>552.0</td>\n",
              "      <td>0.0</td>\n",
              "      <td>F02967546410</td>\n",
              "      <td>U01001XI14</td>\n",
              "    </tr>\n",
              "    <tr>\n",
              "      <th>2020-01-08</th>\n",
              "      <td>NaN</td>\n",
              "      <td>ABASTECIMENTO DE GELO SECO</td>\n",
              "      <td>D969</td>\n",
              "      <td>NaN</td>\n",
              "      <td>101</td>\n",
              "      <td>880.0</td>\n",
              "      <td>0.0</td>\n",
              "      <td>F02967546410</td>\n",
              "      <td>U01001XI48</td>\n",
              "    </tr>\n",
              "    <tr>\n",
              "      <th>2020-01-08</th>\n",
              "      <td>NaN</td>\n",
              "      <td>ABASTECIMENTO DE GELO SECO</td>\n",
              "      <td>D969</td>\n",
              "      <td>NaN</td>\n",
              "      <td>101</td>\n",
              "      <td>880.0</td>\n",
              "      <td>0.0</td>\n",
              "      <td>F02967546410</td>\n",
              "      <td>U01001XI11</td>\n",
              "    </tr>\n",
              "  </tbody>\n",
              "</table>\n",
              "</div>"
            ],
            "text/plain": [
              "                    Material  ... Centro custo\n",
              "Data de lançamento            ...             \n",
              "2020-01-08               NaN  ...   U01001XI29\n",
              "2020-01-08               NaN  ...   U01001XI30\n",
              "2020-01-08               NaN  ...   U01001XI14\n",
              "2020-01-08               NaN  ...   U01001XI48\n",
              "2020-01-08               NaN  ...   U01001XI11\n",
              "\n",
              "[5 rows x 9 columns]"
            ]
          },
          "metadata": {
            "tags": []
          },
          "execution_count": 159
        }
      ]
    },
    {
      "cell_type": "code",
      "metadata": {
        "id": "wOSg9Kwpr2Sp",
        "outputId": "2a6dbea8-9efc-49d7-dd69-4d421763a17b",
        "colab": {
          "base_uri": "https://localhost:8080/",
          "height": 301
        }
      },
      "source": [
        "mb51.rename(columns= {\"Qtd.  UM registro\":\"Registro\"}, inplace=True)\n",
        "\n",
        "print(mb51.columns)\n",
        "\n",
        "mb51.head()"
      ],
      "execution_count": null,
      "outputs": [
        {
          "output_type": "stream",
          "text": [
            "Index(['Material', 'Texto breve de material', 'Centro', 'Depósito',\n",
            "       'Tipo de movimento', 'Registro', 'Montante em MI', 'Nome do usuário',\n",
            "       'Centro custo'],\n",
            "      dtype='object')\n"
          ],
          "name": "stdout"
        },
        {
          "output_type": "execute_result",
          "data": {
            "text/html": [
              "<div>\n",
              "<style scoped>\n",
              "    .dataframe tbody tr th:only-of-type {\n",
              "        vertical-align: middle;\n",
              "    }\n",
              "\n",
              "    .dataframe tbody tr th {\n",
              "        vertical-align: top;\n",
              "    }\n",
              "\n",
              "    .dataframe thead th {\n",
              "        text-align: right;\n",
              "    }\n",
              "</style>\n",
              "<table border=\"1\" class=\"dataframe\">\n",
              "  <thead>\n",
              "    <tr style=\"text-align: right;\">\n",
              "      <th></th>\n",
              "      <th>Material</th>\n",
              "      <th>Texto breve de material</th>\n",
              "      <th>Centro</th>\n",
              "      <th>Depósito</th>\n",
              "      <th>Tipo de movimento</th>\n",
              "      <th>Registro</th>\n",
              "      <th>Montante em MI</th>\n",
              "      <th>Nome do usuário</th>\n",
              "      <th>Centro custo</th>\n",
              "    </tr>\n",
              "    <tr>\n",
              "      <th>Data de lançamento</th>\n",
              "      <th></th>\n",
              "      <th></th>\n",
              "      <th></th>\n",
              "      <th></th>\n",
              "      <th></th>\n",
              "      <th></th>\n",
              "      <th></th>\n",
              "      <th></th>\n",
              "      <th></th>\n",
              "    </tr>\n",
              "  </thead>\n",
              "  <tbody>\n",
              "    <tr>\n",
              "      <th>2020-01-08</th>\n",
              "      <td>NaN</td>\n",
              "      <td>ABASTECIMENTO DE GELO SECO</td>\n",
              "      <td>D969</td>\n",
              "      <td>NaN</td>\n",
              "      <td>101</td>\n",
              "      <td>416.0</td>\n",
              "      <td>0.0</td>\n",
              "      <td>F02967546410</td>\n",
              "      <td>U01001XI29</td>\n",
              "    </tr>\n",
              "    <tr>\n",
              "      <th>2020-01-08</th>\n",
              "      <td>NaN</td>\n",
              "      <td>ABASTECIMENTO DE GELO SECO</td>\n",
              "      <td>D969</td>\n",
              "      <td>NaN</td>\n",
              "      <td>101</td>\n",
              "      <td>624.0</td>\n",
              "      <td>0.0</td>\n",
              "      <td>F02967546410</td>\n",
              "      <td>U01001XI30</td>\n",
              "    </tr>\n",
              "    <tr>\n",
              "      <th>2020-01-08</th>\n",
              "      <td>NaN</td>\n",
              "      <td>ABASTECIMENTO DE GELO SECO</td>\n",
              "      <td>D969</td>\n",
              "      <td>NaN</td>\n",
              "      <td>101</td>\n",
              "      <td>552.0</td>\n",
              "      <td>0.0</td>\n",
              "      <td>F02967546410</td>\n",
              "      <td>U01001XI14</td>\n",
              "    </tr>\n",
              "    <tr>\n",
              "      <th>2020-01-08</th>\n",
              "      <td>NaN</td>\n",
              "      <td>ABASTECIMENTO DE GELO SECO</td>\n",
              "      <td>D969</td>\n",
              "      <td>NaN</td>\n",
              "      <td>101</td>\n",
              "      <td>880.0</td>\n",
              "      <td>0.0</td>\n",
              "      <td>F02967546410</td>\n",
              "      <td>U01001XI48</td>\n",
              "    </tr>\n",
              "    <tr>\n",
              "      <th>2020-01-08</th>\n",
              "      <td>NaN</td>\n",
              "      <td>ABASTECIMENTO DE GELO SECO</td>\n",
              "      <td>D969</td>\n",
              "      <td>NaN</td>\n",
              "      <td>101</td>\n",
              "      <td>880.0</td>\n",
              "      <td>0.0</td>\n",
              "      <td>F02967546410</td>\n",
              "      <td>U01001XI11</td>\n",
              "    </tr>\n",
              "  </tbody>\n",
              "</table>\n",
              "</div>"
            ],
            "text/plain": [
              "                    Material  ... Centro custo\n",
              "Data de lançamento            ...             \n",
              "2020-01-08               NaN  ...   U01001XI29\n",
              "2020-01-08               NaN  ...   U01001XI30\n",
              "2020-01-08               NaN  ...   U01001XI14\n",
              "2020-01-08               NaN  ...   U01001XI48\n",
              "2020-01-08               NaN  ...   U01001XI11\n",
              "\n",
              "[5 rows x 9 columns]"
            ]
          },
          "metadata": {
            "tags": []
          },
          "execution_count": 160
        }
      ]
    },
    {
      "cell_type": "code",
      "metadata": {
        "id": "18MuxGYmYW-P",
        "outputId": "e4c1750c-6428-4da8-e724-b2ff49ee2c1a",
        "colab": {
          "base_uri": "https://localhost:8080/",
          "height": 254
        }
      },
      "source": [
        "mb51[\"Material\"]"
      ],
      "execution_count": null,
      "outputs": [
        {
          "output_type": "execute_result",
          "data": {
            "text/plain": [
              "Data de lançamento\n",
              "2020-01-08           NaN\n",
              "2020-01-08           NaN\n",
              "2020-01-08           NaN\n",
              "2020-01-08           NaN\n",
              "2020-01-08           NaN\n",
              "                 ...    \n",
              "2020-08-07    70010157.0\n",
              "2020-08-04    70010157.0\n",
              "2020-08-04    70010157.0\n",
              "2020-08-02    70010157.0\n",
              "2020-08-02    70010157.0\n",
              "Name: Material, Length: 386380, dtype: float64"
            ]
          },
          "metadata": {
            "tags": []
          },
          "execution_count": 161
        }
      ]
    },
    {
      "cell_type": "code",
      "metadata": {
        "id": "bZggrJ7DYh03",
        "outputId": "f56b80d4-8f69-4cb0-ea72-08d4baf19e70",
        "colab": {
          "base_uri": "https://localhost:8080/",
          "height": 308
        }
      },
      "source": [
        "mb51.info()"
      ],
      "execution_count": null,
      "outputs": [
        {
          "output_type": "stream",
          "text": [
            "<class 'pandas.core.frame.DataFrame'>\n",
            "DatetimeIndex: 386380 entries, 2020-01-08 to 2020-08-02\n",
            "Data columns (total 9 columns):\n",
            " #   Column                   Non-Null Count   Dtype  \n",
            "---  ------                   --------------   -----  \n",
            " 0   Material                 383292 non-null  float64\n",
            " 1   Texto breve de material  386380 non-null  object \n",
            " 2   Centro                   386380 non-null  object \n",
            " 3   Depósito                 362309 non-null  object \n",
            " 4   Tipo de movimento        386380 non-null  object \n",
            " 5   Registro                 386380 non-null  float64\n",
            " 6   Montante em MI           386380 non-null  float64\n",
            " 7   Nome do usuário          386380 non-null  object \n",
            " 8   Centro custo             50050 non-null   object \n",
            "dtypes: float64(3), object(6)\n",
            "memory usage: 29.5+ MB\n"
          ],
          "name": "stdout"
        }
      ]
    },
    {
      "cell_type": "code",
      "metadata": {
        "id": "OaJT-w9JYjzQ",
        "outputId": "93919e0c-6a82-47c4-c9fa-d2bd9aa4aa35",
        "colab": {
          "base_uri": "https://localhost:8080/",
          "height": 308
        }
      },
      "source": [
        "mb51['Material']= mb51['Material'].astype('float')\n",
        "mb51['Texto breve de material']= mb51['Texto breve de material'].astype('category')\n",
        "mb51['Centro']= mb51['Centro'].astype('category')\n",
        "mb51['Depósito']= mb51['Depósito'].astype('category')\n",
        "mb51['Tipo de movimento']= mb51['Tipo de movimento'].astype('category')\n",
        "#data está ok. Tipo datime64[ns]\n",
        "mb51['Centro']= mb51['Centro'].astype('category')\n",
        "mb51['Montante em MI']= mb51['Montante em MI'].astype('category')\n",
        "mb51['Nome do usuário']= mb51['Nome do usuário'].astype('category')\n",
        "mb51['Centro custo']= mb51['Centro custo'].astype('category')\n",
        "\n",
        "\n",
        "\n",
        "mb51.info()"
      ],
      "execution_count": null,
      "outputs": [
        {
          "output_type": "stream",
          "text": [
            "<class 'pandas.core.frame.DataFrame'>\n",
            "DatetimeIndex: 386380 entries, 2020-01-08 to 2020-08-02\n",
            "Data columns (total 9 columns):\n",
            " #   Column                   Non-Null Count   Dtype   \n",
            "---  ------                   --------------   -----   \n",
            " 0   Material                 383292 non-null  float64 \n",
            " 1   Texto breve de material  386380 non-null  category\n",
            " 2   Centro                   386380 non-null  category\n",
            " 3   Depósito                 362309 non-null  category\n",
            " 4   Tipo de movimento        386380 non-null  category\n",
            " 5   Registro                 386380 non-null  float64 \n",
            " 6   Montante em MI           386380 non-null  category\n",
            " 7   Nome do usuário          386380 non-null  category\n",
            " 8   Centro custo             50050 non-null   category\n",
            "dtypes: category(7), float64(2)\n",
            "memory usage: 16.6 MB\n"
          ],
          "name": "stdout"
        }
      ]
    },
    {
      "cell_type": "code",
      "metadata": {
        "id": "-OuhPgqlI5FB",
        "outputId": "eb53958b-4fad-4026-bf64-522e9e81c08b",
        "colab": {
          "base_uri": "https://localhost:8080/",
          "height": 437
        }
      },
      "source": [
        "mb51_7 = mb51[ (mb51[\"Material\"] >=70000000) & (mb51[\"Material\"]<80000000) & (mb51[\"Tipo de movimento\"] ==  '131')]\n",
        "\n",
        "mb51_7\n"
      ],
      "execution_count": null,
      "outputs": [
        {
          "output_type": "execute_result",
          "data": {
            "text/html": [
              "<div>\n",
              "<style scoped>\n",
              "    .dataframe tbody tr th:only-of-type {\n",
              "        vertical-align: middle;\n",
              "    }\n",
              "\n",
              "    .dataframe tbody tr th {\n",
              "        vertical-align: top;\n",
              "    }\n",
              "\n",
              "    .dataframe thead th {\n",
              "        text-align: right;\n",
              "    }\n",
              "</style>\n",
              "<table border=\"1\" class=\"dataframe\">\n",
              "  <thead>\n",
              "    <tr style=\"text-align: right;\">\n",
              "      <th></th>\n",
              "      <th>Material</th>\n",
              "      <th>Texto breve de material</th>\n",
              "      <th>Centro</th>\n",
              "      <th>Depósito</th>\n",
              "      <th>Tipo de movimento</th>\n",
              "      <th>Registro</th>\n",
              "      <th>Montante em MI</th>\n",
              "      <th>Nome do usuário</th>\n",
              "      <th>Centro custo</th>\n",
              "    </tr>\n",
              "    <tr>\n",
              "      <th>Data de lançamento</th>\n",
              "      <th></th>\n",
              "      <th></th>\n",
              "      <th></th>\n",
              "      <th></th>\n",
              "      <th></th>\n",
              "      <th></th>\n",
              "      <th></th>\n",
              "      <th></th>\n",
              "      <th></th>\n",
              "    </tr>\n",
              "  </thead>\n",
              "  <tbody>\n",
              "    <tr>\n",
              "      <th>2020-09-18</th>\n",
              "      <td>70000054.0</td>\n",
              "      <td>Ác Úrico Urina 24h expressão mg/dL</td>\n",
              "      <td>D969</td>\n",
              "      <td>EXAM</td>\n",
              "      <td>131</td>\n",
              "      <td>2.0</td>\n",
              "      <td>39.68</td>\n",
              "      <td>SVC_JOBS</td>\n",
              "      <td>NaN</td>\n",
              "    </tr>\n",
              "    <tr>\n",
              "      <th>2020-09-17</th>\n",
              "      <td>70000054.0</td>\n",
              "      <td>Ác Úrico Urina 24h expressão mg/dL</td>\n",
              "      <td>D969</td>\n",
              "      <td>EXAM</td>\n",
              "      <td>131</td>\n",
              "      <td>4.0</td>\n",
              "      <td>79.36</td>\n",
              "      <td>SVC_JOBS</td>\n",
              "      <td>NaN</td>\n",
              "    </tr>\n",
              "    <tr>\n",
              "      <th>2020-09-16</th>\n",
              "      <td>70000054.0</td>\n",
              "      <td>Ác Úrico Urina 24h expressão mg/dL</td>\n",
              "      <td>D969</td>\n",
              "      <td>EXAM</td>\n",
              "      <td>131</td>\n",
              "      <td>4.0</td>\n",
              "      <td>79.36</td>\n",
              "      <td>SVC_JOBS</td>\n",
              "      <td>NaN</td>\n",
              "    </tr>\n",
              "    <tr>\n",
              "      <th>2020-09-15</th>\n",
              "      <td>70000054.0</td>\n",
              "      <td>Ác Úrico Urina 24h expressão mg/dL</td>\n",
              "      <td>D969</td>\n",
              "      <td>EXAM</td>\n",
              "      <td>131</td>\n",
              "      <td>1.0</td>\n",
              "      <td>19.84</td>\n",
              "      <td>SVC_JOBS</td>\n",
              "      <td>NaN</td>\n",
              "    </tr>\n",
              "    <tr>\n",
              "      <th>2020-09-14</th>\n",
              "      <td>70000054.0</td>\n",
              "      <td>Ác Úrico Urina 24h expressão mg/dL</td>\n",
              "      <td>D969</td>\n",
              "      <td>EXAM</td>\n",
              "      <td>131</td>\n",
              "      <td>1.0</td>\n",
              "      <td>19.84</td>\n",
              "      <td>SVC_JOBS</td>\n",
              "      <td>NaN</td>\n",
              "    </tr>\n",
              "    <tr>\n",
              "      <th>...</th>\n",
              "      <td>...</td>\n",
              "      <td>...</td>\n",
              "      <td>...</td>\n",
              "      <td>...</td>\n",
              "      <td>...</td>\n",
              "      <td>...</td>\n",
              "      <td>...</td>\n",
              "      <td>...</td>\n",
              "      <td>...</td>\n",
              "    </tr>\n",
              "    <tr>\n",
              "      <th>2020-08-12</th>\n",
              "      <td>70010157.0</td>\n",
              "      <td>Metabolismo do Ferro 2, Soro</td>\n",
              "      <td>D969</td>\n",
              "      <td>EXAM</td>\n",
              "      <td>131</td>\n",
              "      <td>1.0</td>\n",
              "      <td>91.25</td>\n",
              "      <td>SVC_JOBS</td>\n",
              "      <td>NaN</td>\n",
              "    </tr>\n",
              "    <tr>\n",
              "      <th>2020-08-11</th>\n",
              "      <td>70010157.0</td>\n",
              "      <td>Metabolismo do Ferro 2, Soro</td>\n",
              "      <td>D969</td>\n",
              "      <td>EXAM</td>\n",
              "      <td>131</td>\n",
              "      <td>1.0</td>\n",
              "      <td>91.25</td>\n",
              "      <td>SVC_JOBS</td>\n",
              "      <td>NaN</td>\n",
              "    </tr>\n",
              "    <tr>\n",
              "      <th>2020-08-07</th>\n",
              "      <td>70010157.0</td>\n",
              "      <td>Metabolismo do Ferro 2, Soro</td>\n",
              "      <td>D969</td>\n",
              "      <td>EXAM</td>\n",
              "      <td>131</td>\n",
              "      <td>1.0</td>\n",
              "      <td>91.25</td>\n",
              "      <td>SVC_JOBS</td>\n",
              "      <td>NaN</td>\n",
              "    </tr>\n",
              "    <tr>\n",
              "      <th>2020-08-04</th>\n",
              "      <td>70010157.0</td>\n",
              "      <td>Metabolismo do Ferro 2, Soro</td>\n",
              "      <td>D969</td>\n",
              "      <td>EXAM</td>\n",
              "      <td>131</td>\n",
              "      <td>2.0</td>\n",
              "      <td>182.50</td>\n",
              "      <td>SVC_JOBS</td>\n",
              "      <td>NaN</td>\n",
              "    </tr>\n",
              "    <tr>\n",
              "      <th>2020-08-02</th>\n",
              "      <td>70010157.0</td>\n",
              "      <td>Metabolismo do Ferro 2, Soro</td>\n",
              "      <td>D969</td>\n",
              "      <td>EXAM</td>\n",
              "      <td>131</td>\n",
              "      <td>1.0</td>\n",
              "      <td>91.25</td>\n",
              "      <td>SVC_JOBS</td>\n",
              "      <td>NaN</td>\n",
              "    </tr>\n",
              "  </tbody>\n",
              "</table>\n",
              "<p>93477 rows × 9 columns</p>\n",
              "</div>"
            ],
            "text/plain": [
              "                      Material  ... Centro custo\n",
              "Data de lançamento              ...             \n",
              "2020-09-18          70000054.0  ...          NaN\n",
              "2020-09-17          70000054.0  ...          NaN\n",
              "2020-09-16          70000054.0  ...          NaN\n",
              "2020-09-15          70000054.0  ...          NaN\n",
              "2020-09-14          70000054.0  ...          NaN\n",
              "...                        ...  ...          ...\n",
              "2020-08-12          70010157.0  ...          NaN\n",
              "2020-08-11          70010157.0  ...          NaN\n",
              "2020-08-07          70010157.0  ...          NaN\n",
              "2020-08-04          70010157.0  ...          NaN\n",
              "2020-08-02          70010157.0  ...          NaN\n",
              "\n",
              "[93477 rows x 9 columns]"
            ]
          },
          "metadata": {
            "tags": []
          },
          "execution_count": 167
        }
      ]
    },
    {
      "cell_type": "code",
      "metadata": {
        "id": "mK95qiHGn77g"
      },
      "source": [
        "#mb51_7['Texto breve de material'].sum()\n",
        "\n",
        "mb51_7.reset_index()\n",
        "\n",
        "mb51_7_agrupado = mb51_7.groupby(['Material'], as_index= False).agg({'Texto breve de material':'first', 'Registro':'sum'})\n",
        "\n",
        "\n",
        "\n"
      ],
      "execution_count": null,
      "outputs": []
    },
    {
      "cell_type": "code",
      "metadata": {
        "id": "mSb_xAuYtlnz",
        "outputId": "46e0d70e-70d4-40cf-a95e-4a6183d72e43",
        "colab": {
          "base_uri": "https://localhost:8080/",
          "height": 1000
        }
      },
      "source": [
        "mb51_7_agrupado.head(50)"
      ],
      "execution_count": null,
      "outputs": [
        {
          "output_type": "execute_result",
          "data": {
            "text/html": [
              "<div>\n",
              "<style scoped>\n",
              "    .dataframe tbody tr th:only-of-type {\n",
              "        vertical-align: middle;\n",
              "    }\n",
              "\n",
              "    .dataframe tbody tr th {\n",
              "        vertical-align: top;\n",
              "    }\n",
              "\n",
              "    .dataframe thead th {\n",
              "        text-align: right;\n",
              "    }\n",
              "</style>\n",
              "<table border=\"1\" class=\"dataframe\">\n",
              "  <thead>\n",
              "    <tr style=\"text-align: right;\">\n",
              "      <th></th>\n",
              "      <th>Material</th>\n",
              "      <th>Texto breve de material</th>\n",
              "      <th>Registro</th>\n",
              "    </tr>\n",
              "  </thead>\n",
              "  <tbody>\n",
              "    <tr>\n",
              "      <th>0</th>\n",
              "      <td>70000054.0</td>\n",
              "      <td>Ác Úrico Urina 24h expressão mg/dL</td>\n",
              "      <td>397.0</td>\n",
              "    </tr>\n",
              "    <tr>\n",
              "      <th>1</th>\n",
              "      <td>70000060.0</td>\n",
              "      <td>Cálcio Dosagem Urina expressão mg/L</td>\n",
              "      <td>24.0</td>\n",
              "    </tr>\n",
              "    <tr>\n",
              "      <th>2</th>\n",
              "      <td>70000067.0</td>\n",
              "      <td>Cloro, Urina de 24 Horas</td>\n",
              "      <td>8.0</td>\n",
              "    </tr>\n",
              "    <tr>\n",
              "      <th>3</th>\n",
              "      <td>70000070.0</td>\n",
              "      <td>Cloro, Líquidos Orgânicos</td>\n",
              "      <td>1.0</td>\n",
              "    </tr>\n",
              "    <tr>\n",
              "      <th>4</th>\n",
              "      <td>70000074.0</td>\n",
              "      <td>Glicose 2 horas pós prandial, Plasma</td>\n",
              "      <td>13564.0</td>\n",
              "    </tr>\n",
              "    <tr>\n",
              "      <th>5</th>\n",
              "      <td>70000082.0</td>\n",
              "      <td>Colesterol HDL Sr/plasma  result mg/dL</td>\n",
              "      <td>49425.0</td>\n",
              "    </tr>\n",
              "    <tr>\n",
              "      <th>6</th>\n",
              "      <td>70000085.0</td>\n",
              "      <td>Colesterol LDL Sr  result mg/dL</td>\n",
              "      <td>100473.0</td>\n",
              "    </tr>\n",
              "    <tr>\n",
              "      <th>7</th>\n",
              "      <td>70000096.0</td>\n",
              "      <td>Colesterol total , Líquidos Orgânicos</td>\n",
              "      <td>4.0</td>\n",
              "    </tr>\n",
              "    <tr>\n",
              "      <th>8</th>\n",
              "      <td>70000103.0</td>\n",
              "      <td>Ferro, Dosagem, Sr result ng/mL</td>\n",
              "      <td>114413.0</td>\n",
              "    </tr>\n",
              "    <tr>\n",
              "      <th>9</th>\n",
              "      <td>70000115.0</td>\n",
              "      <td>Curva Glicêmica 2 Hs (0/120)</td>\n",
              "      <td>2969.0</td>\n",
              "    </tr>\n",
              "    <tr>\n",
              "      <th>10</th>\n",
              "      <td>70000122.0</td>\n",
              "      <td>Proteínas Totais, Soro</td>\n",
              "      <td>1103.0</td>\n",
              "    </tr>\n",
              "    <tr>\n",
              "      <th>11</th>\n",
              "      <td>70000123.0</td>\n",
              "      <td>Desidrogenase Láctica DHL Liq Orgânico</td>\n",
              "      <td>5.0</td>\n",
              "    </tr>\n",
              "    <tr>\n",
              "      <th>12</th>\n",
              "      <td>70000125.0</td>\n",
              "      <td>Proteínas Totais,  Urina amostra isolada</td>\n",
              "      <td>70.0</td>\n",
              "    </tr>\n",
              "    <tr>\n",
              "      <th>13</th>\n",
              "      <td>70000139.0</td>\n",
              "      <td>Gorduras, Pesquisa, Fezes</td>\n",
              "      <td>828.0</td>\n",
              "    </tr>\n",
              "    <tr>\n",
              "      <th>14</th>\n",
              "      <td>70000142.0</td>\n",
              "      <td>Oograma, fezes</td>\n",
              "      <td>641.0</td>\n",
              "    </tr>\n",
              "    <tr>\n",
              "      <th>15</th>\n",
              "      <td>70000143.0</td>\n",
              "      <td>Triglicérides, Diversos (XXX)</td>\n",
              "      <td>62.0</td>\n",
              "    </tr>\n",
              "    <tr>\n",
              "      <th>16</th>\n",
              "      <td>70000150.0</td>\n",
              "      <td>Fósforo, Urina 24 hs  result mg/24h</td>\n",
              "      <td>539.0</td>\n",
              "    </tr>\n",
              "    <tr>\n",
              "      <th>17</th>\n",
              "      <td>70000168.0</td>\n",
              "      <td>Ácido Fólico, Soro</td>\n",
              "      <td>41922.0</td>\n",
              "    </tr>\n",
              "    <tr>\n",
              "      <th>18</th>\n",
              "      <td>70000172.0</td>\n",
              "      <td>Coombs Direto, Sangue</td>\n",
              "      <td>265.0</td>\n",
              "    </tr>\n",
              "    <tr>\n",
              "      <th>19</th>\n",
              "      <td>70000175.0</td>\n",
              "      <td>Alfa1Glicoproteína Acida Sr result mg/dL</td>\n",
              "      <td>7057.0</td>\n",
              "    </tr>\n",
              "    <tr>\n",
              "      <th>20</th>\n",
              "      <td>70000180.0</td>\n",
              "      <td>Parasitológico Elementos Anormais Fezes</td>\n",
              "      <td>216086.0</td>\n",
              "    </tr>\n",
              "    <tr>\n",
              "      <th>21</th>\n",
              "      <td>70000184.0</td>\n",
              "      <td>Amilase, Urina de 24 Horas</td>\n",
              "      <td>3.0</td>\n",
              "    </tr>\n",
              "    <tr>\n",
              "      <th>22</th>\n",
              "      <td>70000191.0</td>\n",
              "      <td>Albumina, Líquidos Orgânicos</td>\n",
              "      <td>4.0</td>\n",
              "    </tr>\n",
              "    <tr>\n",
              "      <th>23</th>\n",
              "      <td>70000204.0</td>\n",
              "      <td>Amilase, Líquidos Orgânicos</td>\n",
              "      <td>2.0</td>\n",
              "    </tr>\n",
              "    <tr>\n",
              "      <th>24</th>\n",
              "      <td>70000224.0</td>\n",
              "      <td>Cálcio Dosagem Sr expressão mg/dL</td>\n",
              "      <td>159075.0</td>\n",
              "    </tr>\n",
              "    <tr>\n",
              "      <th>25</th>\n",
              "      <td>70000231.0</td>\n",
              "      <td>Cálcio Urina de 24h expressão mg/dL</td>\n",
              "      <td>2509.0</td>\n",
              "    </tr>\n",
              "    <tr>\n",
              "      <th>26</th>\n",
              "      <td>70000235.0</td>\n",
              "      <td>Retração do Coágulo, Sangue</td>\n",
              "      <td>1.0</td>\n",
              "    </tr>\n",
              "    <tr>\n",
              "      <th>27</th>\n",
              "      <td>70000240.0</td>\n",
              "      <td>Gama-Glutamil Transferase (Gama GT), Sor</td>\n",
              "      <td>171303.0</td>\n",
              "    </tr>\n",
              "    <tr>\n",
              "      <th>28</th>\n",
              "      <td>70000241.0</td>\n",
              "      <td>Laranja (F33), IgE RAST, Soro</td>\n",
              "      <td>586.0</td>\n",
              "    </tr>\n",
              "    <tr>\n",
              "      <th>29</th>\n",
              "      <td>70000242.0</td>\n",
              "      <td>Tempo de coagulação, Sangue (Lee White)</td>\n",
              "      <td>101.0</td>\n",
              "    </tr>\n",
              "    <tr>\n",
              "      <th>30</th>\n",
              "      <td>70000248.0</td>\n",
              "      <td>Levedura (F45),  IgE RAST, Soro</td>\n",
              "      <td>6.0</td>\n",
              "    </tr>\n",
              "    <tr>\n",
              "      <th>31</th>\n",
              "      <td>70000256.0</td>\n",
              "      <td>T tromboplastina parcial ativada Pl TTP</td>\n",
              "      <td>12923.0</td>\n",
              "    </tr>\n",
              "    <tr>\n",
              "      <th>32</th>\n",
              "      <td>70000269.0</td>\n",
              "      <td>Papaia (F293),  IgE RAST, Soro</td>\n",
              "      <td>132.0</td>\n",
              "    </tr>\n",
              "    <tr>\n",
              "      <th>33</th>\n",
              "      <td>70000285.0</td>\n",
              "      <td>Glicose, Líquido Orgânico</td>\n",
              "      <td>7.0</td>\n",
              "    </tr>\n",
              "    <tr>\n",
              "      <th>34</th>\n",
              "      <td>70000290.0</td>\n",
              "      <td>Penas de galinha (E85),  IgE RAST, Soro</td>\n",
              "      <td>123.0</td>\n",
              "    </tr>\n",
              "    <tr>\n",
              "      <th>35</th>\n",
              "      <td>70000296.0</td>\n",
              "      <td>Cloro, amostra isolada de Urina</td>\n",
              "      <td>55.0</td>\n",
              "    </tr>\n",
              "    <tr>\n",
              "      <th>36</th>\n",
              "      <td>70000309.0</td>\n",
              "      <td>Lipase, Soro</td>\n",
              "      <td>30007.0</td>\n",
              "    </tr>\n",
              "    <tr>\n",
              "      <th>37</th>\n",
              "      <td>70000315.0</td>\n",
              "      <td>Creatinina, Líquidos Orgânicos</td>\n",
              "      <td>9.0</td>\n",
              "    </tr>\n",
              "    <tr>\n",
              "      <th>38</th>\n",
              "      <td>70000328.0</td>\n",
              "      <td>Leucograma, Sangue</td>\n",
              "      <td>456.0</td>\n",
              "    </tr>\n",
              "    <tr>\n",
              "      <th>39</th>\n",
              "      <td>70000339.0</td>\n",
              "      <td>Vidoeiro (Betula) (T3),  IgE RAST, Soro</td>\n",
              "      <td>2.0</td>\n",
              "    </tr>\n",
              "    <tr>\n",
              "      <th>40</th>\n",
              "      <td>70000359.0</td>\n",
              "      <td>Desidrogenase Láctica (DHL), Soro</td>\n",
              "      <td>28875.0</td>\n",
              "    </tr>\n",
              "    <tr>\n",
              "      <th>41</th>\n",
              "      <td>70000362.0</td>\n",
              "      <td>Potássio, Urina amostra isolada</td>\n",
              "      <td>120.0</td>\n",
              "    </tr>\n",
              "    <tr>\n",
              "      <th>42</th>\n",
              "      <td>70000366.0</td>\n",
              "      <td>Homocisteína, Sr/Pl result umol/L</td>\n",
              "      <td>26160.0</td>\n",
              "    </tr>\n",
              "    <tr>\n",
              "      <th>43</th>\n",
              "      <td>70000369.0</td>\n",
              "      <td>Proteínas Totais, Líquido Orgânico</td>\n",
              "      <td>6.0</td>\n",
              "    </tr>\n",
              "    <tr>\n",
              "      <th>44</th>\n",
              "      <td>70000372.0</td>\n",
              "      <td>Uréia, Urina isolada result mg/dL</td>\n",
              "      <td>66.0</td>\n",
              "    </tr>\n",
              "    <tr>\n",
              "      <th>45</th>\n",
              "      <td>70000378.0</td>\n",
              "      <td>Fosfatase Alcalina, Soro</td>\n",
              "      <td>103558.0</td>\n",
              "    </tr>\n",
              "    <tr>\n",
              "      <th>46</th>\n",
              "      <td>70000386.0</td>\n",
              "      <td>Curva Glicêmica (0/60)</td>\n",
              "      <td>36.0</td>\n",
              "    </tr>\n",
              "    <tr>\n",
              "      <th>47</th>\n",
              "      <td>70000389.0</td>\n",
              "      <td>Antiestreptolisina O Quantit Sor</td>\n",
              "      <td>15360.0</td>\n",
              "    </tr>\n",
              "    <tr>\n",
              "      <th>48</th>\n",
              "      <td>70000390.0</td>\n",
              "      <td>Proteínas tot albumina e globulina Sr</td>\n",
              "      <td>38131.0</td>\n",
              "    </tr>\n",
              "    <tr>\n",
              "      <th>49</th>\n",
              "      <td>70000392.0</td>\n",
              "      <td>Fósforo, Sr result mg/dL</td>\n",
              "      <td>58903.0</td>\n",
              "    </tr>\n",
              "  </tbody>\n",
              "</table>\n",
              "</div>"
            ],
            "text/plain": [
              "      Material                   Texto breve de material  Registro\n",
              "0   70000054.0        Ác Úrico Urina 24h expressão mg/dL     397.0\n",
              "1   70000060.0       Cálcio Dosagem Urina expressão mg/L      24.0\n",
              "2   70000067.0                  Cloro, Urina de 24 Horas       8.0\n",
              "3   70000070.0                 Cloro, Líquidos Orgânicos       1.0\n",
              "4   70000074.0      Glicose 2 horas pós prandial, Plasma   13564.0\n",
              "5   70000082.0    Colesterol HDL Sr/plasma  result mg/dL   49425.0\n",
              "6   70000085.0           Colesterol LDL Sr  result mg/dL  100473.0\n",
              "7   70000096.0     Colesterol total , Líquidos Orgânicos       4.0\n",
              "8   70000103.0           Ferro, Dosagem, Sr result ng/mL  114413.0\n",
              "9   70000115.0              Curva Glicêmica 2 Hs (0/120)    2969.0\n",
              "10  70000122.0                    Proteínas Totais, Soro    1103.0\n",
              "11  70000123.0    Desidrogenase Láctica DHL Liq Orgânico       5.0\n",
              "12  70000125.0  Proteínas Totais,  Urina amostra isolada      70.0\n",
              "13  70000139.0                 Gorduras, Pesquisa, Fezes     828.0\n",
              "14  70000142.0                            Oograma, fezes     641.0\n",
              "15  70000143.0             Triglicérides, Diversos (XXX)      62.0\n",
              "16  70000150.0       Fósforo, Urina 24 hs  result mg/24h     539.0\n",
              "17  70000168.0                        Ácido Fólico, Soro   41922.0\n",
              "18  70000172.0                     Coombs Direto, Sangue     265.0\n",
              "19  70000175.0  Alfa1Glicoproteína Acida Sr result mg/dL    7057.0\n",
              "20  70000180.0   Parasitológico Elementos Anormais Fezes  216086.0\n",
              "21  70000184.0                Amilase, Urina de 24 Horas       3.0\n",
              "22  70000191.0              Albumina, Líquidos Orgânicos       4.0\n",
              "23  70000204.0               Amilase, Líquidos Orgânicos       2.0\n",
              "24  70000224.0         Cálcio Dosagem Sr expressão mg/dL  159075.0\n",
              "25  70000231.0       Cálcio Urina de 24h expressão mg/dL    2509.0\n",
              "26  70000235.0               Retração do Coágulo, Sangue       1.0\n",
              "27  70000240.0  Gama-Glutamil Transferase (Gama GT), Sor  171303.0\n",
              "28  70000241.0             Laranja (F33), IgE RAST, Soro     586.0\n",
              "29  70000242.0   Tempo de coagulação, Sangue (Lee White)     101.0\n",
              "30  70000248.0           Levedura (F45),  IgE RAST, Soro       6.0\n",
              "31  70000256.0   T tromboplastina parcial ativada Pl TTP   12923.0\n",
              "32  70000269.0            Papaia (F293),  IgE RAST, Soro     132.0\n",
              "33  70000285.0                 Glicose, Líquido Orgânico       7.0\n",
              "34  70000290.0   Penas de galinha (E85),  IgE RAST, Soro     123.0\n",
              "35  70000296.0           Cloro, amostra isolada de Urina      55.0\n",
              "36  70000309.0                              Lipase, Soro   30007.0\n",
              "37  70000315.0            Creatinina, Líquidos Orgânicos       9.0\n",
              "38  70000328.0                        Leucograma, Sangue     456.0\n",
              "39  70000339.0   Vidoeiro (Betula) (T3),  IgE RAST, Soro       2.0\n",
              "40  70000359.0         Desidrogenase Láctica (DHL), Soro   28875.0\n",
              "41  70000362.0           Potássio, Urina amostra isolada     120.0\n",
              "42  70000366.0         Homocisteína, Sr/Pl result umol/L   26160.0\n",
              "43  70000369.0        Proteínas Totais, Líquido Orgânico       6.0\n",
              "44  70000372.0         Uréia, Urina isolada result mg/dL      66.0\n",
              "45  70000378.0                  Fosfatase Alcalina, Soro  103558.0\n",
              "46  70000386.0                    Curva Glicêmica (0/60)      36.0\n",
              "47  70000389.0          Antiestreptolisina O Quantit Sor   15360.0\n",
              "48  70000390.0     Proteínas tot albumina e globulina Sr   38131.0\n",
              "49  70000392.0                  Fósforo, Sr result mg/dL   58903.0"
            ]
          },
          "metadata": {
            "tags": []
          },
          "execution_count": 199
        }
      ]
    },
    {
      "cell_type": "code",
      "metadata": {
        "id": "nrFgio7wAMvT",
        "outputId": "4232d70e-94a7-4e53-975c-8871f74bf23c",
        "colab": {
          "base_uri": "https://localhost:8080/",
          "height": 72
        }
      },
      "source": [
        "dp7.keys()"
      ],
      "execution_count": null,
      "outputs": [
        {
          "output_type": "execute_result",
          "data": {
            "text/plain": [
              "Index(['Material', 'Texto breve de material', 'Soma de Qtd.  UM registro',\n",
              "       'Setor', 'Setor 2'],\n",
              "      dtype='object')"
            ]
          },
          "metadata": {
            "tags": []
          },
          "execution_count": 207
        }
      ]
    },
    {
      "cell_type": "code",
      "metadata": {
        "id": "YIBNpqhOAtoo",
        "outputId": "bcfd396c-92e3-47ac-8a9d-e73d169271ef",
        "colab": {
          "base_uri": "https://localhost:8080/",
          "height": 407
        }
      },
      "source": [
        "dp7.loc[:,['Material', 'Setor']]"
      ],
      "execution_count": null,
      "outputs": [
        {
          "output_type": "execute_result",
          "data": {
            "text/html": [
              "<div>\n",
              "<style scoped>\n",
              "    .dataframe tbody tr th:only-of-type {\n",
              "        vertical-align: middle;\n",
              "    }\n",
              "\n",
              "    .dataframe tbody tr th {\n",
              "        vertical-align: top;\n",
              "    }\n",
              "\n",
              "    .dataframe thead th {\n",
              "        text-align: right;\n",
              "    }\n",
              "</style>\n",
              "<table border=\"1\" class=\"dataframe\">\n",
              "  <thead>\n",
              "    <tr style=\"text-align: right;\">\n",
              "      <th></th>\n",
              "      <th>Material</th>\n",
              "      <th>Setor</th>\n",
              "    </tr>\n",
              "  </thead>\n",
              "  <tbody>\n",
              "    <tr>\n",
              "      <th>0</th>\n",
              "      <td>70000054.0</td>\n",
              "      <td>Bioquímica</td>\n",
              "    </tr>\n",
              "    <tr>\n",
              "      <th>1</th>\n",
              "      <td>70000060.0</td>\n",
              "      <td>Bioquímica</td>\n",
              "    </tr>\n",
              "    <tr>\n",
              "      <th>2</th>\n",
              "      <td>70000067.0</td>\n",
              "      <td>Bioquímica</td>\n",
              "    </tr>\n",
              "    <tr>\n",
              "      <th>3</th>\n",
              "      <td>70000070.0</td>\n",
              "      <td>Bioquímica</td>\n",
              "    </tr>\n",
              "    <tr>\n",
              "      <th>4</th>\n",
              "      <td>70000074.0</td>\n",
              "      <td>Bioquímica</td>\n",
              "    </tr>\n",
              "    <tr>\n",
              "      <th>...</th>\n",
              "      <td>...</td>\n",
              "      <td>...</td>\n",
              "    </tr>\n",
              "    <tr>\n",
              "      <th>390</th>\n",
              "      <td>70010011.0</td>\n",
              "      <td>Imunologia</td>\n",
              "    </tr>\n",
              "    <tr>\n",
              "      <th>391</th>\n",
              "      <td>70010015.0</td>\n",
              "      <td>Imunologia</td>\n",
              "    </tr>\n",
              "    <tr>\n",
              "      <th>392</th>\n",
              "      <td>70010033.0</td>\n",
              "      <td>Imunologia</td>\n",
              "    </tr>\n",
              "    <tr>\n",
              "      <th>393</th>\n",
              "      <td>70010102.0</td>\n",
              "      <td>Imunologia</td>\n",
              "    </tr>\n",
              "    <tr>\n",
              "      <th>394</th>\n",
              "      <td>70010157.0</td>\n",
              "      <td>Bioquímica</td>\n",
              "    </tr>\n",
              "  </tbody>\n",
              "</table>\n",
              "<p>395 rows × 2 columns</p>\n",
              "</div>"
            ],
            "text/plain": [
              "       Material       Setor\n",
              "0    70000054.0  Bioquímica\n",
              "1    70000060.0  Bioquímica\n",
              "2    70000067.0  Bioquímica\n",
              "3    70000070.0  Bioquímica\n",
              "4    70000074.0  Bioquímica\n",
              "..          ...         ...\n",
              "390  70010011.0  Imunologia\n",
              "391  70010015.0  Imunologia\n",
              "392  70010033.0  Imunologia\n",
              "393  70010102.0  Imunologia\n",
              "394  70010157.0  Bioquímica\n",
              "\n",
              "[395 rows x 2 columns]"
            ]
          },
          "metadata": {
            "tags": []
          },
          "execution_count": 213
        }
      ]
    },
    {
      "cell_type": "code",
      "metadata": {
        "id": "QcyCz5HBk32L",
        "outputId": "101e62a7-262e-4b6b-a2a2-b0d298efe63f",
        "colab": {
          "base_uri": "https://localhost:8080/",
          "height": 407
        }
      },
      "source": [
        "mb51_7_Setor = mb51_7_agrupado.merge(dp7.loc[:,['Material','Setor 2']], on = 'Material' ,how='inner')\n",
        "\n",
        "mb51_7_Setor"
      ],
      "execution_count": null,
      "outputs": [
        {
          "output_type": "execute_result",
          "data": {
            "text/html": [
              "<div>\n",
              "<style scoped>\n",
              "    .dataframe tbody tr th:only-of-type {\n",
              "        vertical-align: middle;\n",
              "    }\n",
              "\n",
              "    .dataframe tbody tr th {\n",
              "        vertical-align: top;\n",
              "    }\n",
              "\n",
              "    .dataframe thead th {\n",
              "        text-align: right;\n",
              "    }\n",
              "</style>\n",
              "<table border=\"1\" class=\"dataframe\">\n",
              "  <thead>\n",
              "    <tr style=\"text-align: right;\">\n",
              "      <th></th>\n",
              "      <th>Material</th>\n",
              "      <th>Texto breve de material</th>\n",
              "      <th>Registro</th>\n",
              "      <th>Setor 2</th>\n",
              "    </tr>\n",
              "  </thead>\n",
              "  <tbody>\n",
              "    <tr>\n",
              "      <th>0</th>\n",
              "      <td>70000054.0</td>\n",
              "      <td>Ác Úrico Urina 24h expressão mg/dL</td>\n",
              "      <td>397.0</td>\n",
              "      <td>Automação</td>\n",
              "    </tr>\n",
              "    <tr>\n",
              "      <th>1</th>\n",
              "      <td>70000060.0</td>\n",
              "      <td>Cálcio Dosagem Urina expressão mg/L</td>\n",
              "      <td>24.0</td>\n",
              "      <td>Automação</td>\n",
              "    </tr>\n",
              "    <tr>\n",
              "      <th>2</th>\n",
              "      <td>70000067.0</td>\n",
              "      <td>Cloro, Urina de 24 Horas</td>\n",
              "      <td>8.0</td>\n",
              "      <td>Automação</td>\n",
              "    </tr>\n",
              "    <tr>\n",
              "      <th>3</th>\n",
              "      <td>70000070.0</td>\n",
              "      <td>Cloro, Líquidos Orgânicos</td>\n",
              "      <td>1.0</td>\n",
              "      <td>Automação</td>\n",
              "    </tr>\n",
              "    <tr>\n",
              "      <th>4</th>\n",
              "      <td>70000074.0</td>\n",
              "      <td>Glicose 2 horas pós prandial, Plasma</td>\n",
              "      <td>13564.0</td>\n",
              "      <td>Automação</td>\n",
              "    </tr>\n",
              "    <tr>\n",
              "      <th>...</th>\n",
              "      <td>...</td>\n",
              "      <td>...</td>\n",
              "      <td>...</td>\n",
              "      <td>...</td>\n",
              "    </tr>\n",
              "    <tr>\n",
              "      <th>390</th>\n",
              "      <td>70010011.0</td>\n",
              "      <td>Sífilis, Anticorpos Totais, FTA-ABS IgM,</td>\n",
              "      <td>5.0</td>\n",
              "      <td>Automação</td>\n",
              "    </tr>\n",
              "    <tr>\n",
              "      <th>391</th>\n",
              "      <td>70010015.0</td>\n",
              "      <td>CORONAVIRUS(COVID-19,ANTICORPOS TOTAIS,S</td>\n",
              "      <td>1412.0</td>\n",
              "      <td>Automação</td>\n",
              "    </tr>\n",
              "    <tr>\n",
              "      <th>392</th>\n",
              "      <td>70010033.0</td>\n",
              "      <td>Coronavirus (Covid-19), Anticorpos IgG,</td>\n",
              "      <td>1177.0</td>\n",
              "      <td>Automação</td>\n",
              "    </tr>\n",
              "    <tr>\n",
              "      <th>393</th>\n",
              "      <td>70010102.0</td>\n",
              "      <td>Coronavirus (Covid-19), Algoritmo Sorolo</td>\n",
              "      <td>1171.0</td>\n",
              "      <td>Automação</td>\n",
              "    </tr>\n",
              "    <tr>\n",
              "      <th>394</th>\n",
              "      <td>70010157.0</td>\n",
              "      <td>Metabolismo do Ferro 2, Soro</td>\n",
              "      <td>8.0</td>\n",
              "      <td>Automação</td>\n",
              "    </tr>\n",
              "  </tbody>\n",
              "</table>\n",
              "<p>395 rows × 4 columns</p>\n",
              "</div>"
            ],
            "text/plain": [
              "       Material                   Texto breve de material  Registro    Setor 2\n",
              "0    70000054.0        Ác Úrico Urina 24h expressão mg/dL     397.0  Automação\n",
              "1    70000060.0       Cálcio Dosagem Urina expressão mg/L      24.0  Automação\n",
              "2    70000067.0                  Cloro, Urina de 24 Horas       8.0  Automação\n",
              "3    70000070.0                 Cloro, Líquidos Orgânicos       1.0  Automação\n",
              "4    70000074.0      Glicose 2 horas pós prandial, Plasma   13564.0  Automação\n",
              "..          ...                                       ...       ...        ...\n",
              "390  70010011.0  Sífilis, Anticorpos Totais, FTA-ABS IgM,       5.0  Automação\n",
              "391  70010015.0  CORONAVIRUS(COVID-19,ANTICORPOS TOTAIS,S    1412.0  Automação\n",
              "392  70010033.0   Coronavirus (Covid-19), Anticorpos IgG,    1177.0  Automação\n",
              "393  70010102.0  Coronavirus (Covid-19), Algoritmo Sorolo    1171.0  Automação\n",
              "394  70010157.0              Metabolismo do Ferro 2, Soro       8.0  Automação\n",
              "\n",
              "[395 rows x 4 columns]"
            ]
          },
          "metadata": {
            "tags": []
          },
          "execution_count": 217
        }
      ]
    },
    {
      "cell_type": "code",
      "metadata": {
        "id": "KOM9Ns4lBMjH"
      },
      "source": [
        "volumetria_setor = mb51_7_Setor.groupby(['Setor 2']).agg({'Registro':'sum'})"
      ],
      "execution_count": null,
      "outputs": []
    },
    {
      "cell_type": "code",
      "metadata": {
        "id": "82eSHd1xCBio",
        "outputId": "f8e56c16-77a7-4826-d723-45a0b84c9337",
        "colab": {
          "base_uri": "https://localhost:8080/",
          "height": 288
        }
      },
      "source": [
        "volumetria_setor"
      ],
      "execution_count": null,
      "outputs": [
        {
          "output_type": "execute_result",
          "data": {
            "text/html": [
              "<div>\n",
              "<style scoped>\n",
              "    .dataframe tbody tr th:only-of-type {\n",
              "        vertical-align: middle;\n",
              "    }\n",
              "\n",
              "    .dataframe tbody tr th {\n",
              "        vertical-align: top;\n",
              "    }\n",
              "\n",
              "    .dataframe thead th {\n",
              "        text-align: right;\n",
              "    }\n",
              "</style>\n",
              "<table border=\"1\" class=\"dataframe\">\n",
              "  <thead>\n",
              "    <tr style=\"text-align: right;\">\n",
              "      <th></th>\n",
              "      <th>Registro</th>\n",
              "    </tr>\n",
              "    <tr>\n",
              "      <th>Setor 2</th>\n",
              "      <th></th>\n",
              "    </tr>\n",
              "  </thead>\n",
              "  <tbody>\n",
              "    <tr>\n",
              "      <th>AP</th>\n",
              "      <td>630.0</td>\n",
              "    </tr>\n",
              "    <tr>\n",
              "      <th>Automação</th>\n",
              "      <td>9209361.0</td>\n",
              "    </tr>\n",
              "    <tr>\n",
              "      <th>Hematologia</th>\n",
              "      <td>1228426.0</td>\n",
              "    </tr>\n",
              "    <tr>\n",
              "      <th>Microbiologia</th>\n",
              "      <td>270738.0</td>\n",
              "    </tr>\n",
              "    <tr>\n",
              "      <th>Parasitologia</th>\n",
              "      <td>270071.0</td>\n",
              "    </tr>\n",
              "    <tr>\n",
              "      <th>Sem Setor</th>\n",
              "      <td>196.0</td>\n",
              "    </tr>\n",
              "    <tr>\n",
              "      <th>Urinálise</th>\n",
              "      <td>319329.0</td>\n",
              "    </tr>\n",
              "  </tbody>\n",
              "</table>\n",
              "</div>"
            ],
            "text/plain": [
              "                Registro\n",
              "Setor 2                 \n",
              "AP                 630.0\n",
              "Automação      9209361.0\n",
              "Hematologia    1228426.0\n",
              "Microbiologia   270738.0\n",
              "Parasitologia   270071.0\n",
              "Sem Setor          196.0\n",
              "Urinálise       319329.0"
            ]
          },
          "metadata": {
            "tags": []
          },
          "execution_count": 253
        }
      ]
    },
    {
      "cell_type": "code",
      "metadata": {
        "id": "19equp05DIm7",
        "outputId": "df73b131-0ffa-4d17-eb5c-c2fd25e2e994",
        "colab": {
          "base_uri": "https://localhost:8080/",
          "height": 258
        }
      },
      "source": [
        "volumetria_setor_2 = volumetria_setor.reset_index()\n",
        "volumetria_setor_2"
      ],
      "execution_count": null,
      "outputs": [
        {
          "output_type": "execute_result",
          "data": {
            "text/html": [
              "<div>\n",
              "<style scoped>\n",
              "    .dataframe tbody tr th:only-of-type {\n",
              "        vertical-align: middle;\n",
              "    }\n",
              "\n",
              "    .dataframe tbody tr th {\n",
              "        vertical-align: top;\n",
              "    }\n",
              "\n",
              "    .dataframe thead th {\n",
              "        text-align: right;\n",
              "    }\n",
              "</style>\n",
              "<table border=\"1\" class=\"dataframe\">\n",
              "  <thead>\n",
              "    <tr style=\"text-align: right;\">\n",
              "      <th></th>\n",
              "      <th>Setor 2</th>\n",
              "      <th>Registro</th>\n",
              "    </tr>\n",
              "  </thead>\n",
              "  <tbody>\n",
              "    <tr>\n",
              "      <th>0</th>\n",
              "      <td>AP</td>\n",
              "      <td>630.0</td>\n",
              "    </tr>\n",
              "    <tr>\n",
              "      <th>1</th>\n",
              "      <td>Automação</td>\n",
              "      <td>9209361.0</td>\n",
              "    </tr>\n",
              "    <tr>\n",
              "      <th>2</th>\n",
              "      <td>Hematologia</td>\n",
              "      <td>1228426.0</td>\n",
              "    </tr>\n",
              "    <tr>\n",
              "      <th>3</th>\n",
              "      <td>Microbiologia</td>\n",
              "      <td>270738.0</td>\n",
              "    </tr>\n",
              "    <tr>\n",
              "      <th>4</th>\n",
              "      <td>Parasitologia</td>\n",
              "      <td>270071.0</td>\n",
              "    </tr>\n",
              "    <tr>\n",
              "      <th>5</th>\n",
              "      <td>Sem Setor</td>\n",
              "      <td>196.0</td>\n",
              "    </tr>\n",
              "    <tr>\n",
              "      <th>6</th>\n",
              "      <td>Urinálise</td>\n",
              "      <td>319329.0</td>\n",
              "    </tr>\n",
              "  </tbody>\n",
              "</table>\n",
              "</div>"
            ],
            "text/plain": [
              "         Setor 2   Registro\n",
              "0             AP      630.0\n",
              "1      Automação  9209361.0\n",
              "2    Hematologia  1228426.0\n",
              "3  Microbiologia   270738.0\n",
              "4  Parasitologia   270071.0\n",
              "5      Sem Setor      196.0\n",
              "6      Urinálise   319329.0"
            ]
          },
          "metadata": {
            "tags": []
          },
          "execution_count": 261
        }
      ]
    },
    {
      "cell_type": "code",
      "metadata": {
        "id": "YgjFptKkGDmg",
        "outputId": "18973d19-9582-4044-8d0c-9ca2ff9ef243",
        "colab": {
          "base_uri": "https://localhost:8080/",
          "height": 272
        }
      },
      "source": [
        "volumetria_setor_2_dict = volumetria_setor_2.to_dict()\n",
        "\n",
        "volumetria_setor_2_dict"
      ],
      "execution_count": null,
      "outputs": [
        {
          "output_type": "execute_result",
          "data": {
            "text/plain": [
              "{'Registro': {0: 630.0,\n",
              "  1: 9209361.0,\n",
              "  2: 1228426.0,\n",
              "  3: 270738.0,\n",
              "  4: 270071.0,\n",
              "  5: 196.0,\n",
              "  6: 319329.0},\n",
              " 'Setor 2': {0: 'AP',\n",
              "  1: 'Automação',\n",
              "  2: 'Hematologia',\n",
              "  3: 'Microbiologia',\n",
              "  4: 'Parasitologia',\n",
              "  5: 'Sem Setor',\n",
              "  6: 'Urinálise'}}"
            ]
          },
          "metadata": {
            "tags": []
          },
          "execution_count": 281
        }
      ]
    },
    {
      "cell_type": "code",
      "metadata": {
        "id": "cK6tjRQOBvEQ"
      },
      "source": [
        "import matplotlib.pyplot as plt"
      ],
      "execution_count": null,
      "outputs": []
    },
    {
      "cell_type": "code",
      "metadata": {
        "id": "x6s-LEzPB0kI",
        "outputId": "08da145d-413b-4dca-e84f-4cc00a6c1860",
        "colab": {
          "base_uri": "https://localhost:8080/",
          "height": 365
        }
      },
      "source": [
        "volumetria_setor_2.plot(x = 'Setor 2', y = 'Registro', kind='bar')"
      ],
      "execution_count": null,
      "outputs": [
        {
          "output_type": "execute_result",
          "data": {
            "text/plain": [
              "<matplotlib.axes._subplots.AxesSubplot at 0x7fd3fb133438>"
            ]
          },
          "metadata": {
            "tags": []
          },
          "execution_count": 272
        },
        {
          "output_type": "display_data",
          "data": {
            "image/png": "[encoded data removed]",
            "text/plain": [
              "<Figure size 432x288 with 1 Axes>"
            ]
          },
          "metadata": {
            "tags": [],
            "needs_background": "light"
          }
        }
      ]
    },
    {
      "cell_type": "code",
      "metadata": {
        "id": "4nvgg96pEYLA",
        "outputId": "c2f131dd-97b1-4db3-dc2b-11a70d525da8",
        "colab": {
          "base_uri": "https://localhost:8080/",
          "height": 163
        }
      },
      "source": [
        "!pip install pywaffle\n",
        "from pywaffle import Waffle"
      ],
      "execution_count": null,
      "outputs": [
        {
          "output_type": "stream",
          "text": [
            "Requirement already satisfied: pywaffle in /usr/local/lib/python3.6/dist-packages (0.6.1)\n",
            "Requirement already satisfied: matplotlib in /usr/local/lib/python3.6/dist-packages (from pywaffle) (3.2.2)\n",
            "Requirement already satisfied: numpy>=1.11 in /usr/local/lib/python3.6/dist-packages (from matplotlib->pywaffle) (1.18.5)\n",
            "Requirement already satisfied: python-dateutil>=2.1 in /usr/local/lib/python3.6/dist-packages (from matplotlib->pywaffle) (2.8.1)\n",
            "Requirement already satisfied: cycler>=0.10 in /usr/local/lib/python3.6/dist-packages (from matplotlib->pywaffle) (0.10.0)\n",
            "Requirement already satisfied: pyparsing!=2.0.4,!=2.1.2,!=2.1.6,>=2.0.1 in /usr/local/lib/python3.6/dist-packages (from matplotlib->pywaffle) (2.4.7)\n",
            "Requirement already satisfied: kiwisolver>=1.0.1 in /usr/local/lib/python3.6/dist-packages (from matplotlib->pywaffle) (1.2.0)\n",
            "Requirement already satisfied: six>=1.5 in /usr/local/lib/python3.6/dist-packages (from python-dateutil>=2.1->matplotlib->pywaffle) (1.15.0)\n"
          ],
          "name": "stdout"
        }
      ]
    },
    {
      "cell_type": "code",
      "metadata": {
        "id": "v4HyN7n9Ik0S",
        "outputId": "e7a9a4f1-7cd8-4b7e-fe2d-b7dfdea4a7f0",
        "colab": {
          "base_uri": "https://localhost:8080/",
          "height": 258
        }
      },
      "source": [
        "volumetria_setor_2"
      ],
      "execution_count": null,
      "outputs": [
        {
          "output_type": "execute_result",
          "data": {
            "text/html": [
              "<div>\n",
              "<style scoped>\n",
              "    .dataframe tbody tr th:only-of-type {\n",
              "        vertical-align: middle;\n",
              "    }\n",
              "\n",
              "    .dataframe tbody tr th {\n",
              "        vertical-align: top;\n",
              "    }\n",
              "\n",
              "    .dataframe thead th {\n",
              "        text-align: right;\n",
              "    }\n",
              "</style>\n",
              "<table border=\"1\" class=\"dataframe\">\n",
              "  <thead>\n",
              "    <tr style=\"text-align: right;\">\n",
              "      <th></th>\n",
              "      <th>Setor 2</th>\n",
              "      <th>Registro</th>\n",
              "    </tr>\n",
              "  </thead>\n",
              "  <tbody>\n",
              "    <tr>\n",
              "      <th>0</th>\n",
              "      <td>AP</td>\n",
              "      <td>630.0</td>\n",
              "    </tr>\n",
              "    <tr>\n",
              "      <th>1</th>\n",
              "      <td>Automação</td>\n",
              "      <td>9209361.0</td>\n",
              "    </tr>\n",
              "    <tr>\n",
              "      <th>2</th>\n",
              "      <td>Hematologia</td>\n",
              "      <td>1228426.0</td>\n",
              "    </tr>\n",
              "    <tr>\n",
              "      <th>3</th>\n",
              "      <td>Microbiologia</td>\n",
              "      <td>270738.0</td>\n",
              "    </tr>\n",
              "    <tr>\n",
              "      <th>4</th>\n",
              "      <td>Parasitologia</td>\n",
              "      <td>270071.0</td>\n",
              "    </tr>\n",
              "    <tr>\n",
              "      <th>5</th>\n",
              "      <td>Sem Setor</td>\n",
              "      <td>196.0</td>\n",
              "    </tr>\n",
              "    <tr>\n",
              "      <th>6</th>\n",
              "      <td>Urinálise</td>\n",
              "      <td>319329.0</td>\n",
              "    </tr>\n",
              "  </tbody>\n",
              "</table>\n",
              "</div>"
            ],
            "text/plain": [
              "         Setor 2   Registro\n",
              "0             AP      630.0\n",
              "1      Automação  9209361.0\n",
              "2    Hematologia  1228426.0\n",
              "3  Microbiologia   270738.0\n",
              "4  Parasitologia   270071.0\n",
              "5      Sem Setor      196.0\n",
              "6      Urinálise   319329.0"
            ]
          },
          "metadata": {
            "tags": []
          },
          "execution_count": 287
        }
      ]
    },
    {
      "cell_type": "code",
      "metadata": {
        "id": "44hJ4V9EEsHw",
        "outputId": "55f57881-a1a6-4867-9d0b-0014a618b455",
        "colab": {
          "base_uri": "https://localhost:8080/",
          "height": 145
        }
      },
      "source": [
        "data = dict(zip(volumetria_setor_2['Setor 2'], volumetria_setor_2['Registro']))\n",
        "\n",
        "data"
      ],
      "execution_count": null,
      "outputs": [
        {
          "output_type": "execute_result",
          "data": {
            "text/plain": [
              "{'AP': 630.0,\n",
              " 'Automação': 9209361.0,\n",
              " 'Hematologia': 1228426.0,\n",
              " 'Microbiologia': 270738.0,\n",
              " 'Parasitologia': 270071.0,\n",
              " 'Sem Setor': 196.0,\n",
              " 'Urinálise': 319329.0}"
            ]
          },
          "metadata": {
            "tags": []
          },
          "execution_count": 288
        }
      ]
    },
    {
      "cell_type": "code",
      "metadata": {
        "id": "6otNRDZYETeD",
        "outputId": "669563f7-8102-4eb4-b6f8-fc31479e9b6f",
        "colab": {
          "base_uri": "https://localhost:8080/",
          "height": 251
        }
      },
      "source": [
        "fig = plt.figure(\n",
        "                FigureClass=Waffle,\n",
        "                rows=10,\n",
        "                columns=10,\n",
        "                colors=(\"#232066\", \"#74bbfb\", \"#fa2836\", \"#40794c\",\"#734a3c\",\"#1CB732\",\"#ed9330\"),\n",
        "                values=data, icons='vial', icon_size=22,\n",
        "                legend={'loc': 'upper left', 'bbox_to_anchor': (1,1)},\n",
        "                icon_legend=True\n",
        "               \n",
        "                \n",
        "                )\n",
        "fig.set_tight_layout(False)\n",
        "plt.show();"
      ],
      "execution_count": null,
      "outputs": [
        {
          "output_type": "display_data",
          "data": {
            "image/png": "[encoded data removed]",
            "text/plain": [
              "<Waffle size 432x288 with 1 Axes>"
            ]
          },
          "metadata": {
            "tags": [],
            "needs_background": "light"
          }
        }
      ]
    }
  ]
}