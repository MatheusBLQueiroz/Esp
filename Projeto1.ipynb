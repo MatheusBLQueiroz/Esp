{
  "nbformat": 4,
  "nbformat_minor": 0,
  "metadata": {
    "colab": {
      "name": "Projeto1.ipynb",
      "provenance": [],
      "include_colab_link": true
    },
    "kernelspec": {
      "name": "python3",
      "display_name": "Python 3"
    }
  },
  "cells": [
    {
      "cell_type": "markdown",
      "metadata": {
        "id": "view-in-github",
        "colab_type": "text"
      },
      "source": [
        "<a href=\"https://colab.research.google.com/github/MatheusBLQueiroz/Esp/blob/master/Projeto1.ipynb\" target=\"_parent\"><img src=\"https://colab.research.google.com/assets/colab-badge.svg\" alt=\"Open In Colab\"/></a>"
      ]
    },
    {
      "cell_type": "code",
      "metadata": {
        "id": "cSOAEdT3VMfo",
        "colab_type": "code",
        "colab": {}
      },
      "source": [
        "import numpy as np\n",
        "import pandas as pd"
      ],
      "execution_count": 0,
      "outputs": []
    },
    {
      "cell_type": "code",
      "metadata": {
        "id": "s61Qo8J_U5Ts",
        "colab_type": "code",
        "outputId": "a0207ab0-e779-4317-cc5e-59c4832bac72",
        "colab": {
          "base_uri": "https://localhost:8080/",
          "height": 289
        }
      },
      "source": [
        "coletiva=pd.read_csv(\"https://raw.githubusercontent.com/MatheusBLQueiroz/Esp/master/colsuper.csv\",encoding = \"ISO-8859-1\", sep=\";\")\n",
        "#coletiva=pd.read_csv(r\"C:\\Users\\GladAsppam-\\Desktop\\Uni Glad\\Especialização/coletivapy.csv\",encoding = \"ISO-8859-1\")\n",
        "\n",
        "#houses=pd.read_csv(\"https://raw.githubusercontent.com/ProfLuciano/intro_cd/gh-pages/data/recife.csv\",encoding = \"ISO-8859-1\")\n",
        "#print(houses.head())\n",
        "\n",
        "print(coletiva.head())\n",
        "\n",
        "coletiva['Centro Abastecedor']\n",
        "\n",
        "coletiva_d969=coletiva[coletiva['Centro']=='D969']\n",
        "\n",
        "coletiva_da04-coletiva[coletiva['Centro']=='DA04']\n",
        "\n",
        "print(coletiva_d969.head())"
      ],
      "execution_count": 0,
      "outputs": [
        {
          "output_type": "stream",
          "text": [
            "   Estoque Centro  Área MRP  ...  Des.Status Num.Mat.Fab. Materiais Substituídos\n",
            "0      NaN   DA04       NaN  ...    LIBERADO        03545                    NaN\n",
            "1      NaN   DA04       NaN  ...    LIBERADO        03545                    NaN\n",
            "2      NaN   DA04       NaN  ...    LIBERADO        03545                    NaN\n",
            "3      NaN   DA04       NaN  ...    LIBERADO        03545                    NaN\n",
            "4      NaN   DA04       NaN  ...    LIBERADO        03545                    NaN\n",
            "\n",
            "[5 rows x 101 columns]\n",
            "    Estoque Centro  ...  Num.Mat.Fab.  Materiais Substituídos\n",
            "9       NaN   D969  ...         03545                     NaN\n",
            "16      NaN   D969  ...         L-02Y                     NaN\n",
            "18      NaN   D969  ...    4528417190                     NaN\n",
            "21      NaN   D969  ...          1660                     NaN\n",
            "27      NaN   D969  ...        454021                10002220\n",
            "\n",
            "[5 rows x 101 columns]\n"
          ],
          "name": "stdout"
        }
      ]
    }
  ]
}